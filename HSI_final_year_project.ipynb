{
  "nbformat": 4,
  "nbformat_minor": 0,
  "metadata": {
    "colab": {
      "provenance": []
    },
    "kernelspec": {
      "display_name": "Python 3",
      "name": "python3"
    }
  },
  "cells": [
    {
      "cell_type": "code",
      "metadata": {
        "id": "hOP5107o12Nw"
      },
      "source": [
        "from scipy.io import loadmat\n",
        "import numpy as np\n",
        "%matplotlib inline\n",
        "from sklearn.metrics import confusion_matrix\n",
        "import itertools\n",
        "import matplotlib.pyplot as plt"
      ],
      "execution_count": null,
      "outputs": []
    },
    {
      "cell_type": "markdown",
      "metadata": {
        "id": "Ul0OJhZRCbpy"
      },
      "source": [
        "KSC"
      ]
    },
    {
      "cell_type": "markdown",
      "metadata": {
        "id": "-YpWCbUkyo5b"
      },
      "source": [
        "CNN"
      ]
    },
    {
      "cell_type": "code",
      "metadata": {
        "colab": {
          "base_uri": "https://localhost:8080/"
        },
        "id": "Lf-Vg69tCa-4",
        "outputId": "094cc2bb-b281-40d0-d3ca-706cf068cd36"
      },
      "source": [
        "ksx = loadmat('/content/drive/MyDrive/HSI/KSC.mat')['KSC']\n",
        "ksy = loadmat('/content/drive/MyDrive/HSI/KSC_gt.mat')['KSC_gt']\n",
        "ksx.shape,ksy.shape"
      ],
      "execution_count": null,
      "outputs": [
        {
          "output_type": "execute_result",
          "data": {
            "text/plain": [
              "((512, 614, 176), (512, 614))"
            ]
          },
          "metadata": {
            "tags": []
          },
          "execution_count": 2
        }
      ]
    },
    {
      "cell_type": "code",
      "metadata": {
        "colab": {
          "base_uri": "https://localhost:8080/",
          "height": 269
        },
        "id": "zyGMf-usDwAq",
        "outputId": "2e373aa7-c532-4c40-ca47-ec4ccfe1dc53"
      },
      "source": [
        "import matplotlib.pyplot as plt\n",
        "plt.imshow(ksy)\n",
        "plt.savefig('KSC ground truth')"
      ],
      "execution_count": null,
      "outputs": [
        {
          "output_type": "display_data",
          "data": {
            "image/png": "[encoded data removed]",
            "text/plain": [
              "<Figure size 432x288 with 1 Axes>"
            ]
          },
          "metadata": {
            "tags": [],
            "needs_background": "light"
          }
        }
      ]
    },
    {
      "cell_type": "code",
      "metadata": {
        "id": "YMPeS_zVELiV",
        "colab": {
          "base_uri": "https://localhost:8080/"
        },
        "outputId": "f9bf089c-3d99-4399-a1fb-c60dc3daf0e6"
      },
      "source": [
        "uniques, ids = np.unique(ksy, return_inverse=True)\n",
        "len(uniques)"
      ],
      "execution_count": null,
      "outputs": [
        {
          "output_type": "execute_result",
          "data": {
            "text/plain": [
              "14"
            ]
          },
          "metadata": {
            "tags": []
          },
          "execution_count": 4
        }
      ]
    },
    {
      "cell_type": "code",
      "metadata": {
        "colab": {
          "base_uri": "https://localhost:8080/"
        },
        "id": "UcpMnovgw65p",
        "outputId": "a2f69b6e-91de-424d-9312-215373b2da9b"
      },
      "source": [
        "ksx = ksx.reshape(512*614,176,1)\n",
        "ksy = ksy.reshape(512*614)\n",
        "ksx.shape, ksy.shape"
      ],
      "execution_count": null,
      "outputs": [
        {
          "output_type": "execute_result",
          "data": {
            "text/plain": [
              "((314368, 176, 1), (314368,))"
            ]
          },
          "metadata": {
            "tags": []
          },
          "execution_count": 5
        }
      ]
    },
    {
      "cell_type": "code",
      "metadata": {
        "colab": {
          "base_uri": "https://localhost:8080/"
        },
        "id": "qqgwnxoUxRev",
        "outputId": "f88dce0c-745d-4357-cf43-2df0f34c78bc"
      },
      "source": [
        "from keras.utils import np_utils\n",
        "ksy = np_utils.to_categorical(ids, len(uniques))\n",
        "ksx.shape, ksy.shape"
      ],
      "execution_count": null,
      "outputs": [
        {
          "output_type": "execute_result",
          "data": {
            "text/plain": [
              "((314368, 176, 1), (314368, 14))"
            ]
          },
          "metadata": {
            "tags": []
          },
          "execution_count": 6
        }
      ]
    },
    {
      "cell_type": "code",
      "metadata": {
        "id": "4Qf63R-9xTpx"
      },
      "source": [
        "from keras.layers import Input, Dense, Reshape, Flatten, Embedding, merge, Dropout\n",
        "from keras.layers.advanced_activations import LeakyReLU\n",
        "from keras.layers.convolutional import UpSampling1D, Conv1D, MaxPooling1D\n",
        "from keras.models import Sequential, Model\n",
        "from keras.optimizers import Adam\n",
        "from keras.layers import BatchNormalization\n",
        "from keras.initializers import RandomNormal\n",
        "from keras.layers import Conv2DTranspose\n",
        "from keras.layers import Embedding\n",
        "from keras.layers import Concatenate\n",
        "from keras.layers import Activation\n",
        "from keras.utils.vis_utils import plot_model"
      ],
      "execution_count": null,
      "outputs": []
    },
    {
      "cell_type": "code",
      "metadata": {
        "colab": {
          "base_uri": "https://localhost:8080/"
        },
        "id": "DkbcqLmNxoE5",
        "outputId": "f20bbf58-892c-46a7-e361-a481e3c52075"
      },
      "source": [
        "model = Sequential()\n",
        "model.add(Conv1D(16, kernel_size=3, activation='relu', input_shape=(176,1)))\n",
        "model.add(MaxPooling1D(pool_size=2))\n",
        "model.add(Conv1D(32, kernel_size=3, activation='relu', input_shape=(87,16)))\n",
        "model.add(MaxPooling1D(pool_size=2))\n",
        "model.add(Conv1D(64, kernel_size=3, activation='relu', input_shape=(42,32)))\n",
        "model.add(MaxPooling1D(pool_size=2))\n",
        "model.add(Flatten())\n",
        "model.add(Dense(100, activation='relu'))\n",
        "model.add(Dense(14, activation='softmax'))\n",
        "model.summary()"
      ],
      "execution_count": null,
      "outputs": [
        {
          "output_type": "stream",
          "text": [
            "Model: \"sequential\"\n",
            "_________________________________________________________________\n",
            "Layer (type)                 Output Shape              Param #   \n",
            "=================================================================\n",
            "conv1d (Conv1D)              (None, 174, 16)           64        \n",
            "_________________________________________________________________\n",
            "max_pooling1d (MaxPooling1D) (None, 87, 16)            0         \n",
            "_________________________________________________________________\n",
            "conv1d_1 (Conv1D)            (None, 85, 32)            1568      \n",
            "_________________________________________________________________\n",
            "max_pooling1d_1 (MaxPooling1 (None, 42, 32)            0         \n",
            "_________________________________________________________________\n",
            "conv1d_2 (Conv1D)            (None, 40, 64)            6208      \n",
            "_________________________________________________________________\n",
            "max_pooling1d_2 (MaxPooling1 (None, 20, 64)            0         \n",
            "_________________________________________________________________\n",
            "flatten (Flatten)            (None, 1280)              0         \n",
            "_________________________________________________________________\n",
            "dense (Dense)                (None, 100)               128100    \n",
            "_________________________________________________________________\n",
            "dense_1 (Dense)              (None, 14)                1414      \n",
            "=================================================================\n",
            "Total params: 137,354\n",
            "Trainable params: 137,354\n",
            "Non-trainable params: 0\n",
            "_________________________________________________________________\n"
          ],
          "name": "stdout"
        }
      ]
    },
    {
      "cell_type": "code",
      "metadata": {
        "colab": {
          "base_uri": "https://localhost:8080/"
        },
        "id": "ZcjWjS_lyJ7k",
        "outputId": "b1471e22-1785-4e23-9f68-41f03b47c1bb"
      },
      "source": [
        "#spliting the dataset\n",
        "from sklearn.model_selection import train_test_split\n",
        "X_train, X_test, y_train, y_test = train_test_split(ksx.reshape(-1,176,1), ksy, test_size=0.20)\n",
        "X_train.shape, y_train.shape, X_test.shape, y_test.shape"
      ],
      "execution_count": null,
      "outputs": [
        {
          "output_type": "execute_result",
          "data": {
            "text/plain": [
              "((251494, 176, 1), (251494, 14), (62874, 176, 1), (62874, 14))"
            ]
          },
          "metadata": {
            "tags": []
          },
          "execution_count": 9
        }
      ]
    },
    {
      "cell_type": "code",
      "metadata": {
        "colab": {
          "base_uri": "https://localhost:8080/"
        },
        "id": "Ttlmc9FRyT0V",
        "outputId": "9e9a8b17-13c8-4da5-e204-e3ab22799849"
      },
      "source": [
        "model.compile(optimizer='adam', loss='categorical_crossentropy', metrics=['accuracy'])\n",
        "history = model.fit(X_train, y_train, validation_data=(X_test, y_test), epochs=5, batch_size= 5)"
      ],
      "execution_count": null,
      "outputs": [
        {
          "output_type": "stream",
          "text": [
            "Epoch 1/5\n",
            "50299/50299 [==============================] - 249s 5ms/step - loss: 0.7301 - accuracy: 0.9826 - val_loss: 0.1299 - val_accuracy: 0.9838\n",
            "Epoch 2/5\n",
            "50299/50299 [==============================] - 241s 5ms/step - loss: 0.2246 - accuracy: 0.9830 - val_loss: 0.4477 - val_accuracy: 0.9839\n",
            "Epoch 3/5\n",
            "50299/50299 [==============================] - 246s 5ms/step - loss: 0.2363 - accuracy: 0.9833 - val_loss: 0.1221 - val_accuracy: 0.9839\n",
            "Epoch 4/5\n",
            "50299/50299 [==============================] - 253s 5ms/step - loss: 0.3240 - accuracy: 0.9832 - val_loss: 0.5904 - val_accuracy: 0.9839\n",
            "Epoch 5/5\n",
            "50299/50299 [==============================] - 254s 5ms/step - loss: 0.3592 - accuracy: 0.9834 - val_loss: 0.1217 - val_accuracy: 0.9839\n"
          ],
          "name": "stdout"
        }
      ]
    },
    {
      "cell_type": "code",
      "metadata": {
        "colab": {
          "base_uri": "https://localhost:8080/",
          "height": 286
        },
        "id": "qzPXWGe_0Pvl",
        "outputId": "376c5ecc-7142-4d3b-881a-8a838c72e6d0"
      },
      "source": [
        "y_p = model.predict(ksx)\n",
        "y_p = uniques[y_p.argmax(1)]\n",
        "y_p = y_p.reshape(512,614)\n",
        "from matplotlib import pyplot as plt\n",
        "plt.imshow(y_p, interpolation='nearest')\n",
        "plt.show()\n",
        "plt.savefig('KS')"
      ],
      "execution_count": null,
      "outputs": [
        {
          "output_type": "display_data",
          "data": {
            "image/png": "[encoded data removed]",
            "text/plain": [
              "<Figure size 432x288 with 1 Axes>"
            ]
          },
          "metadata": {
            "tags": [],
            "needs_background": "light"
          }
        },
        {
          "output_type": "display_data",
          "data": {
            "text/plain": [
              "<Figure size 432x288 with 0 Axes>"
            ]
          },
          "metadata": {
            "tags": []
          }
        }
      ]
    },
    {
      "cell_type": "markdown",
      "metadata": {
        "id": "fPsg83Wfyr0P"
      },
      "source": [
        "PCA - CNN"
      ]
    },
    {
      "cell_type": "code",
      "metadata": {
        "colab": {
          "base_uri": "https://localhost:8080/"
        },
        "id": "F9B7YveOysn4",
        "outputId": "d3ff5df1-53b8-4bc5-acc7-0c2769f5fcf9"
      },
      "source": [
        "ksx = ksx.reshape(-1,176)\n",
        "ksx.shape, ksy.shape"
      ],
      "execution_count": null,
      "outputs": [
        {
          "output_type": "execute_result",
          "data": {
            "text/plain": [
              "((314368, 176), (314368, 14))"
            ]
          },
          "metadata": {
            "tags": []
          },
          "execution_count": 12
        }
      ]
    },
    {
      "cell_type": "code",
      "metadata": {
        "id": "37dL-XZszai1"
      },
      "source": [
        "from sklearn.decomposition import PCA\n",
        "pca = PCA(n_components=50)\n",
        "pca.fit(ksx)\n",
        "reduced_ksx = pca.transform(ksx)\n",
        "reduced_ksx = reduced_ksx.reshape(-1,50,1) "
      ],
      "execution_count": null,
      "outputs": []
    },
    {
      "cell_type": "code",
      "metadata": {
        "colab": {
          "base_uri": "https://localhost:8080/"
        },
        "id": "uX0uJcWyzwDl",
        "outputId": "67f44481-4516-4381-b52a-2175f5f778c3"
      },
      "source": [
        "model = Sequential()\n",
        "model.add(Conv1D(16, kernel_size=3, activation='relu', input_shape=(50,1)))\n",
        "model.add(MaxPooling1D(pool_size=2))\n",
        "model.add(Conv1D(32, kernel_size=3, activation='relu', input_shape=(24,16)))\n",
        "model.add(MaxPooling1D(pool_size=2))\n",
        "model.add(Flatten())\n",
        "model.add(Dense(14, activation='softmax'))\n",
        "model.summary()"
      ],
      "execution_count": null,
      "outputs": [
        {
          "output_type": "stream",
          "text": [
            "Model: \"sequential_1\"\n",
            "_________________________________________________________________\n",
            "Layer (type)                 Output Shape              Param #   \n",
            "=================================================================\n",
            "conv1d_3 (Conv1D)            (None, 48, 16)            64        \n",
            "_________________________________________________________________\n",
            "max_pooling1d_3 (MaxPooling1 (None, 24, 16)            0         \n",
            "_________________________________________________________________\n",
            "conv1d_4 (Conv1D)            (None, 22, 32)            1568      \n",
            "_________________________________________________________________\n",
            "max_pooling1d_4 (MaxPooling1 (None, 11, 32)            0         \n",
            "_________________________________________________________________\n",
            "flatten_1 (Flatten)          (None, 352)               0         \n",
            "_________________________________________________________________\n",
            "dense_2 (Dense)              (None, 14)                4942      \n",
            "=================================================================\n",
            "Total params: 6,574\n",
            "Trainable params: 6,574\n",
            "Non-trainable params: 0\n",
            "_________________________________________________________________\n"
          ],
          "name": "stdout"
        }
      ]
    },
    {
      "cell_type": "code",
      "metadata": {
        "colab": {
          "base_uri": "https://localhost:8080/"
        },
        "id": "LH12a6zazxLm",
        "outputId": "2b829d26-a590-4bb9-dfe5-b61a74a0cacc"
      },
      "source": [
        "#spliting the dataset\n",
        "from sklearn.model_selection import train_test_split\n",
        "X_train, X_test, y_train, y_test = train_test_split(reduced_ksx, ksy, test_size=0.30)\n",
        "X_train.shape, y_train.shape, X_test.shape, y_test.shape"
      ],
      "execution_count": null,
      "outputs": [
        {
          "output_type": "execute_result",
          "data": {
            "text/plain": [
              "((220057, 50, 1), (220057, 14), (94311, 50, 1), (94311, 14))"
            ]
          },
          "metadata": {
            "tags": []
          },
          "execution_count": 15
        }
      ]
    },
    {
      "cell_type": "code",
      "metadata": {
        "colab": {
          "base_uri": "https://localhost:8080/"
        },
        "id": "zLPEqpqjzxCu",
        "outputId": "2baefb23-ba1b-4e01-bd5a-1a04884657b5"
      },
      "source": [
        "model.compile(optimizer='adam', loss='categorical_crossentropy', metrics=['accuracy'])\n",
        "history = model.fit(X_train, y_train, validation_data=(X_test, y_test), epochs=5)"
      ],
      "execution_count": null,
      "outputs": [
        {
          "output_type": "stream",
          "text": [
            "Epoch 1/5\n",
            "6877/6877 [==============================] - 26s 4ms/step - loss: 3.2549 - accuracy: 0.9706 - val_loss: 0.2086 - val_accuracy: 0.9835\n",
            "Epoch 2/5\n",
            "6877/6877 [==============================] - 25s 4ms/step - loss: 0.2803 - accuracy: 0.9831 - val_loss: 0.1696 - val_accuracy: 0.9835\n",
            "Epoch 3/5\n",
            "6877/6877 [==============================] - 24s 4ms/step - loss: 0.2242 - accuracy: 0.9825 - val_loss: 0.1451 - val_accuracy: 0.9837\n",
            "Epoch 4/5\n",
            "6877/6877 [==============================] - 25s 4ms/step - loss: 0.1859 - accuracy: 0.9831 - val_loss: 0.1965 - val_accuracy: 0.9825\n",
            "Epoch 5/5\n",
            "6877/6877 [==============================] - 25s 4ms/step - loss: 0.1487 - accuracy: 0.9834 - val_loss: 0.1368 - val_accuracy: 0.9835\n"
          ],
          "name": "stdout"
        }
      ]
    },
    {
      "cell_type": "code",
      "metadata": {
        "colab": {
          "base_uri": "https://localhost:8080/",
          "height": 286
        },
        "id": "wsbln-0e0GUl",
        "outputId": "0dc41681-e31a-4973-dc58-60c62428fb37"
      },
      "source": [
        "y_p_pca = model.predict(reduced_ksx)\n",
        "y_p_pca = uniques[y_p_pca.argmax(1)]\n",
        "y_p_pca = y_p_pca.reshape(512,614)\n",
        "from matplotlib import pyplot as plt\n",
        "plt.imshow(y_p_pca, interpolation='nearest')\n",
        "plt.show()\n",
        "plt.savefig('KS with PCA')"
      ],
      "execution_count": null,
      "outputs": [
        {
          "output_type": "display_data",
          "data": {
            "image/png": "[encoded data removed]",
            "text/plain": [
              "<Figure size 432x288 with 1 Axes>"
            ]
          },
          "metadata": {
            "tags": [],
            "needs_background": "light"
          }
        },
        {
          "output_type": "display_data",
          "data": {
            "text/plain": [
              "<Figure size 432x288 with 0 Axes>"
            ]
          },
          "metadata": {
            "tags": []
          }
        }
      ]
    },
    {
      "cell_type": "markdown",
      "metadata": {
        "id": "jkK2wRZoCrQ8"
      },
      "source": [
        "Salinas"
      ]
    },
    {
      "cell_type": "markdown",
      "metadata": {
        "id": "b4XHSDUx1OcQ"
      },
      "source": [
        "CNN"
      ]
    },
    {
      "cell_type": "code",
      "metadata": {
        "colab": {
          "base_uri": "https://localhost:8080/",
          "height": 197
        },
        "id": "EVyD5YniCq_r",
        "outputId": "29538905-4a71-4288-dcf9-f5480240cdfe"
      },
      "source": [
        "sx = loadmat('/content/drive/MyDrive/HSI/Salinas.mat')['salinas']\n",
        "sy = loadmat('/content/drive/MyDrive/HSI/Salinas_gt.mat')['salinas_gt']\n",
        "sx.shape,sy.shape"
      ],
      "execution_count": null,
      "outputs": [
        {
          "output_type": "error",
          "ename": "NameError",
          "evalue": "ignored",
          "traceback": [
            "\u001b[0;31m---------------------------------------------------------------------------\u001b[0m",
            "\u001b[0;31mNameError\u001b[0m                                 Traceback (most recent call last)",
            "\u001b[0;32m<ipython-input-1-c1820e8029df>\u001b[0m in \u001b[0;36m<module>\u001b[0;34m()\u001b[0m\n\u001b[0;32m----> 1\u001b[0;31m \u001b[0msx\u001b[0m \u001b[0;34m=\u001b[0m \u001b[0mloadmat\u001b[0m\u001b[0;34m(\u001b[0m\u001b[0;34m'/content/drive/MyDrive/HSI/Salinas.mat'\u001b[0m\u001b[0;34m)\u001b[0m\u001b[0;34m[\u001b[0m\u001b[0;34m'salinas'\u001b[0m\u001b[0;34m]\u001b[0m\u001b[0;34m\u001b[0m\u001b[0;34m\u001b[0m\u001b[0m\n\u001b[0m\u001b[1;32m      2\u001b[0m \u001b[0msy\u001b[0m \u001b[0;34m=\u001b[0m \u001b[0mloadmat\u001b[0m\u001b[0;34m(\u001b[0m\u001b[0;34m'/content/drive/MyDrive/HSI/Salinas_gt.mat'\u001b[0m\u001b[0;34m)\u001b[0m\u001b[0;34m[\u001b[0m\u001b[0;34m'salinas_gt'\u001b[0m\u001b[0;34m]\u001b[0m\u001b[0;34m\u001b[0m\u001b[0;34m\u001b[0m\u001b[0m\n\u001b[1;32m      3\u001b[0m \u001b[0msx\u001b[0m\u001b[0;34m.\u001b[0m\u001b[0mshape\u001b[0m\u001b[0;34m,\u001b[0m\u001b[0msy\u001b[0m\u001b[0;34m.\u001b[0m\u001b[0mshape\u001b[0m\u001b[0;34m\u001b[0m\u001b[0;34m\u001b[0m\u001b[0m\n",
            "\u001b[0;31mNameError\u001b[0m: name 'loadmat' is not defined"
          ]
        }
      ]
    },
    {
      "cell_type": "code",
      "metadata": {
        "colab": {
          "base_uri": "https://localhost:8080/",
          "height": 269
        },
        "id": "X8NJ2jsND34a",
        "outputId": "1a5cef94-0102-4525-b7fc-924e1b5009e9"
      },
      "source": [
        "import matplotlib.pyplot as plt\n",
        "plt.imshow(sy)\n",
        "plt.savefig('Salinas ground truth')"
      ],
      "execution_count": null,
      "outputs": [
        {
          "output_type": "display_data",
          "data": {
            "image/png": "[encoded data removed]",
            "text/plain": [
              "<Figure size 432x288 with 1 Axes>"
            ]
          },
          "metadata": {
            "tags": [],
            "needs_background": "light"
          }
        }
      ]
    },
    {
      "cell_type": "code",
      "metadata": {
        "colab": {
          "base_uri": "https://localhost:8080/"
        },
        "id": "zHE6cqp05IeX",
        "outputId": "db899e45-5100-4b54-a752-da3ee68388d8"
      },
      "source": [
        "sx = sx.reshape(512*217,224,1)\n",
        "sy = sy.reshape(512*217)\n",
        "sx.shape, sy.shape"
      ],
      "execution_count": null,
      "outputs": [
        {
          "output_type": "execute_result",
          "data": {
            "text/plain": [
              "((111104, 224, 1), (111104,))"
            ]
          },
          "metadata": {
            "tags": []
          },
          "execution_count": 20
        }
      ]
    },
    {
      "cell_type": "code",
      "metadata": {
        "id": "bMzw8ijGEF54",
        "colab": {
          "base_uri": "https://localhost:8080/"
        },
        "outputId": "5989a6c9-6289-4860-fb0e-848498b3d36b"
      },
      "source": [
        "uniques, ids = np.unique(sy, return_inverse=True)\n",
        "from keras.utils import np_utils\n",
        "sy = np_utils.to_categorical(ids, len(uniques))\n",
        "sx.shape, sy.shape"
      ],
      "execution_count": null,
      "outputs": [
        {
          "output_type": "execute_result",
          "data": {
            "text/plain": [
              "((111104, 224, 1), (111104, 17))"
            ]
          },
          "metadata": {
            "tags": []
          },
          "execution_count": 21
        }
      ]
    },
    {
      "cell_type": "code",
      "metadata": {
        "colab": {
          "base_uri": "https://localhost:8080/"
        },
        "id": "IVd8pWWx10xa",
        "outputId": "0d71ad65-e050-43ab-e725-95ae6fb96a1a"
      },
      "source": [
        "model = Sequential()\n",
        "model.add(Conv1D(16, kernel_size=3, activation='relu', input_shape=(224,1)))\n",
        "model.add(MaxPooling1D(pool_size=2))\n",
        "model.add(Conv1D(32, kernel_size=3, activation='relu', input_shape=(111,16)))\n",
        "model.add(MaxPooling1D(pool_size=2))\n",
        "model.add(Conv1D(64, kernel_size=3, activation='relu', input_shape=(54,32)))\n",
        "model.add(MaxPooling1D(pool_size=2))\n",
        "model.add(Flatten())\n",
        "model.add(Dense(100, activation='relu'))\n",
        "model.add(Dense(17, activation='softmax'))\n",
        "model.summary()"
      ],
      "execution_count": null,
      "outputs": [
        {
          "output_type": "stream",
          "text": [
            "Model: \"sequential_2\"\n",
            "_________________________________________________________________\n",
            "Layer (type)                 Output Shape              Param #   \n",
            "=================================================================\n",
            "conv1d_5 (Conv1D)            (None, 222, 16)           64        \n",
            "_________________________________________________________________\n",
            "max_pooling1d_5 (MaxPooling1 (None, 111, 16)           0         \n",
            "_________________________________________________________________\n",
            "conv1d_6 (Conv1D)            (None, 109, 32)           1568      \n",
            "_________________________________________________________________\n",
            "max_pooling1d_6 (MaxPooling1 (None, 54, 32)            0         \n",
            "_________________________________________________________________\n",
            "conv1d_7 (Conv1D)            (None, 52, 64)            6208      \n",
            "_________________________________________________________________\n",
            "max_pooling1d_7 (MaxPooling1 (None, 26, 64)            0         \n",
            "_________________________________________________________________\n",
            "flatten_2 (Flatten)          (None, 1664)              0         \n",
            "_________________________________________________________________\n",
            "dense_3 (Dense)              (None, 100)               166500    \n",
            "_________________________________________________________________\n",
            "dense_4 (Dense)              (None, 17)                1717      \n",
            "=================================================================\n",
            "Total params: 176,057\n",
            "Trainable params: 176,057\n",
            "Non-trainable params: 0\n",
            "_________________________________________________________________\n"
          ],
          "name": "stdout"
        }
      ]
    },
    {
      "cell_type": "code",
      "metadata": {
        "colab": {
          "base_uri": "https://localhost:8080/"
        },
        "id": "xCg2joh-17l8",
        "outputId": "9cfd5009-2b14-4bd2-8002-be3738398ab4"
      },
      "source": [
        "#spliting the dataset\n",
        "from sklearn.model_selection import train_test_split\n",
        "X_train, X_test, y_train, y_test = train_test_split(sx.reshape(-1,224,1), sy, test_size=0.20)\n",
        "X_train.shape, y_train.shape, X_test.shape, y_test.shape"
      ],
      "execution_count": null,
      "outputs": [
        {
          "output_type": "execute_result",
          "data": {
            "text/plain": [
              "((88883, 224, 1), (88883, 17), (22221, 224, 1), (22221, 17))"
            ]
          },
          "metadata": {
            "tags": []
          },
          "execution_count": 23
        }
      ]
    },
    {
      "cell_type": "code",
      "metadata": {
        "colab": {
          "base_uri": "https://localhost:8080/"
        },
        "id": "Jy4oOFs_1__Y",
        "outputId": "d9ef8581-67bc-4e50-ade5-894dff0a938f"
      },
      "source": [
        "model.compile(optimizer='adam', loss='categorical_crossentropy', metrics=['accuracy'])\n",
        "history = model.fit(X_train, y_train, validation_data=(X_test, y_test), epochs=5, batch_size= 5)"
      ],
      "execution_count": null,
      "outputs": [
        {
          "output_type": "stream",
          "text": [
            "Epoch 1/5\n",
            "17777/17777 [==============================] - 95s 5ms/step - loss: 3.0639 - accuracy: 0.5974 - val_loss: 0.9185 - val_accuracy: 0.6875\n",
            "Epoch 2/5\n",
            "17777/17777 [==============================] - 94s 5ms/step - loss: 0.8659 - accuracy: 0.6952 - val_loss: 0.7176 - val_accuracy: 0.6940\n",
            "Epoch 3/5\n",
            "17777/17777 [==============================] - 95s 5ms/step - loss: 0.6326 - accuracy: 0.7427 - val_loss: 0.4825 - val_accuracy: 0.8005\n",
            "Epoch 4/5\n",
            "17777/17777 [==============================] - 95s 5ms/step - loss: 0.5286 - accuracy: 0.7866 - val_loss: 0.5192 - val_accuracy: 0.7866\n",
            "Epoch 5/5\n",
            "17777/17777 [==============================] - 95s 5ms/step - loss: 0.4842 - accuracy: 0.8050 - val_loss: 0.4821 - val_accuracy: 0.7870\n"
          ],
          "name": "stdout"
        }
      ]
    },
    {
      "cell_type": "code",
      "metadata": {
        "colab": {
          "base_uri": "https://localhost:8080/",
          "height": 286
        },
        "id": "0bMQSQ_62GWR",
        "outputId": "aef06847-184d-402f-eb5f-a71d477b4204"
      },
      "source": [
        "y_p = model.predict(sx)\n",
        "y_p = uniques[y_p.argmax(1)]\n",
        "y_p = y_p.reshape(512,217)\n",
        "from matplotlib import pyplot as plt\n",
        "plt.imshow(y_p, interpolation='nearest')\n",
        "plt.show()\n",
        "plt.savefig('Salinas')"
      ],
      "execution_count": null,
      "outputs": [
        {
          "output_type": "display_data",
          "data": {
            "image/png": "[encoded data removed]",
            "text/plain": [
              "<Figure size 432x288 with 1 Axes>"
            ]
          },
          "metadata": {
            "tags": [],
            "needs_background": "light"
          }
        },
        {
          "output_type": "display_data",
          "data": {
            "text/plain": [
              "<Figure size 432x288 with 0 Axes>"
            ]
          },
          "metadata": {
            "tags": []
          }
        }
      ]
    },
    {
      "cell_type": "markdown",
      "metadata": {
        "id": "A5M4BbtU289J"
      },
      "source": [
        "PCA - CNN"
      ]
    },
    {
      "cell_type": "code",
      "metadata": {
        "colab": {
          "base_uri": "https://localhost:8080/"
        },
        "id": "DDJw372E28lo",
        "outputId": "97ea309a-9103-4902-9b40-e98b2f1c9d59"
      },
      "source": [
        "sx = sx.reshape(-1,224)\n",
        "sx.shape, sy.shape"
      ],
      "execution_count": null,
      "outputs": [
        {
          "output_type": "execute_result",
          "data": {
            "text/plain": [
              "((111104, 224), (111104, 17))"
            ]
          },
          "metadata": {
            "tags": []
          },
          "execution_count": 26
        }
      ]
    },
    {
      "cell_type": "code",
      "metadata": {
        "id": "OnP3OcYI3Rmd"
      },
      "source": [
        "from sklearn.decomposition import PCA\n",
        "pca = PCA(n_components=50)\n",
        "pca.fit(sx)\n",
        "reduced_sx = pca.transform(sx)\n",
        "reduced_sx = reduced_sx.reshape(-1,50,1)"
      ],
      "execution_count": null,
      "outputs": []
    },
    {
      "cell_type": "code",
      "metadata": {
        "colab": {
          "base_uri": "https://localhost:8080/"
        },
        "id": "9TLJ4Gs13SMv",
        "outputId": "17a5e07c-c70c-4caf-e433-3aa3a5802420"
      },
      "source": [
        "model = Sequential()\n",
        "model.add(Conv1D(16, kernel_size=3, activation='relu', input_shape=(50,1)))\n",
        "model.add(MaxPooling1D(pool_size=2))\n",
        "model.add(Conv1D(32, kernel_size=3, activation='relu', input_shape=(24,16)))\n",
        "model.add(MaxPooling1D(pool_size=2))\n",
        "model.add(Flatten())\n",
        "model.add(Dense(17, activation='softmax'))\n",
        "model.summary()"
      ],
      "execution_count": null,
      "outputs": [
        {
          "output_type": "stream",
          "text": [
            "Model: \"sequential_3\"\n",
            "_________________________________________________________________\n",
            "Layer (type)                 Output Shape              Param #   \n",
            "=================================================================\n",
            "conv1d_8 (Conv1D)            (None, 48, 16)            64        \n",
            "_________________________________________________________________\n",
            "max_pooling1d_8 (MaxPooling1 (None, 24, 16)            0         \n",
            "_________________________________________________________________\n",
            "conv1d_9 (Conv1D)            (None, 22, 32)            1568      \n",
            "_________________________________________________________________\n",
            "max_pooling1d_9 (MaxPooling1 (None, 11, 32)            0         \n",
            "_________________________________________________________________\n",
            "flatten_3 (Flatten)          (None, 352)               0         \n",
            "_________________________________________________________________\n",
            "dense_5 (Dense)              (None, 17)                6001      \n",
            "=================================================================\n",
            "Total params: 7,633\n",
            "Trainable params: 7,633\n",
            "Non-trainable params: 0\n",
            "_________________________________________________________________\n"
          ],
          "name": "stdout"
        }
      ]
    },
    {
      "cell_type": "code",
      "metadata": {
        "colab": {
          "base_uri": "https://localhost:8080/"
        },
        "id": "gpu5nKvO3atq",
        "outputId": "bd818833-5683-44bd-ca92-ed4ad164bce8"
      },
      "source": [
        "#spliting the dataset\n",
        "from sklearn.model_selection import train_test_split\n",
        "X_train, X_test, y_train, y_test = train_test_split(reduced_sx, sy, test_size=0.30)\n",
        "X_train.shape, y_train.shape, X_test.shape, y_test.shape"
      ],
      "execution_count": null,
      "outputs": [
        {
          "output_type": "execute_result",
          "data": {
            "text/plain": [
              "((77772, 50, 1), (77772, 17), (33332, 50, 1), (33332, 17))"
            ]
          },
          "metadata": {
            "tags": []
          },
          "execution_count": 29
        }
      ]
    },
    {
      "cell_type": "code",
      "metadata": {
        "colab": {
          "base_uri": "https://localhost:8080/"
        },
        "id": "3QmylKay_k4Y",
        "outputId": "8d2043a6-ac6c-46d9-ee2c-c3a655832129"
      },
      "source": [
        "model.compile(optimizer='adam', loss='categorical_crossentropy', metrics=['accuracy'])\n",
        "history = model.fit(X_train, y_train, validation_data=(X_test, y_test), epochs=5, batch_size= 5)"
      ],
      "execution_count": null,
      "outputs": [
        {
          "output_type": "stream",
          "text": [
            "Epoch 1/5\n",
            "15555/15555 [==============================] - 31s 2ms/step - loss: 4.2543 - accuracy: 0.7761 - val_loss: 0.3648 - val_accuracy: 0.8819\n",
            "Epoch 2/5\n",
            "15555/15555 [==============================] - 30s 2ms/step - loss: 0.3821 - accuracy: 0.8659 - val_loss: 0.3589 - val_accuracy: 0.8832\n",
            "Epoch 3/5\n",
            "15555/15555 [==============================] - 31s 2ms/step - loss: 0.3399 - accuracy: 0.8776 - val_loss: 0.3386 - val_accuracy: 0.8834\n",
            "Epoch 4/5\n",
            "15555/15555 [==============================] - 33s 2ms/step - loss: 0.3311 - accuracy: 0.8819 - val_loss: 0.3716 - val_accuracy: 0.8763\n",
            "Epoch 5/5\n",
            "15555/15555 [==============================] - 32s 2ms/step - loss: 0.3053 - accuracy: 0.8894 - val_loss: 0.3671 - val_accuracy: 0.8825\n"
          ],
          "name": "stdout"
        }
      ]
    },
    {
      "cell_type": "code",
      "metadata": {
        "colab": {
          "base_uri": "https://localhost:8080/",
          "height": 286
        },
        "id": "PnL6BiFR3s9B",
        "outputId": "3d1f5efa-14db-4ec9-a3ab-dfb9bae363d6"
      },
      "source": [
        "y_p_pca = model.predict(reduced_sx)\n",
        "y_p_pca = uniques[y_p_pca.argmax(1)]\n",
        "y_p_pca = y_p_pca.reshape(512,217)\n",
        "from matplotlib import pyplot as plt\n",
        "plt.imshow(y_p_pca, interpolation='nearest')\n",
        "plt.show()\n",
        "plt.savefig('Salinass with PCA')"
      ],
      "execution_count": null,
      "outputs": [
        {
          "output_type": "display_data",
          "data": {
            "image/png": "[encoded data removed]",
            "text/plain": [
              "<Figure size 432x288 with 1 Axes>"
            ]
          },
          "metadata": {
            "tags": [],
            "needs_background": "light"
          }
        },
        {
          "output_type": "display_data",
          "data": {
            "text/plain": [
              "<Figure size 432x288 with 0 Axes>"
            ]
          },
          "metadata": {
            "tags": []
          }
        }
      ]
    },
    {
      "cell_type": "markdown",
      "metadata": {
        "id": "PUGsiThtDQCc"
      },
      "source": [
        "Botswana"
      ]
    },
    {
      "cell_type": "markdown",
      "metadata": {
        "id": "hQAd7pSCAqkt"
      },
      "source": [
        "CNN"
      ]
    },
    {
      "cell_type": "code",
      "metadata": {
        "colab": {
          "base_uri": "https://localhost:8080/"
        },
        "id": "Ynrs4BYEDPwc",
        "outputId": "f876256e-3490-4206-9301-69d2eed8c186"
      },
      "source": [
        "bx = loadmat('/content/drive/MyDrive/HSI/Botswana.mat')['Botswana']\n",
        "by = loadmat('/content/drive/MyDrive/HSI/Botswana_gt.mat')['Botswana_gt']\n",
        "bx.shape,by.shape"
      ],
      "execution_count": null,
      "outputs": [
        {
          "output_type": "execute_result",
          "data": {
            "text/plain": [
              "((1476, 256, 145), (1476, 256))"
            ]
          },
          "metadata": {
            "tags": []
          },
          "execution_count": 32
        }
      ]
    },
    {
      "cell_type": "code",
      "metadata": {
        "colab": {
          "base_uri": "https://localhost:8080/",
          "height": 269
        },
        "id": "2vilh2nCD7_J",
        "outputId": "412f7d56-c6cb-4b57-aac0-925c8e1c2c6f"
      },
      "source": [
        "import matplotlib.pyplot as plt\n",
        "plt.imshow(by)\n",
        "plt.savefig('Botswana ground truth')"
      ],
      "execution_count": null,
      "outputs": [
        {
          "output_type": "display_data",
          "data": {
            "image/png": "[encoded data removed]",
            "text/plain": [
              "<Figure size 432x288 with 1 Axes>"
            ]
          },
          "metadata": {
            "tags": [],
            "needs_background": "light"
          }
        }
      ]
    },
    {
      "cell_type": "code",
      "metadata": {
        "colab": {
          "base_uri": "https://localhost:8080/"
        },
        "id": "Mg0_CK_z4XfO",
        "outputId": "55757717-1478-4d85-f76b-0625f9c9dd42"
      },
      "source": [
        "bx = bx.reshape(1476*256,145,1)\n",
        "by = by.reshape(1476*256)\n",
        "bx.shape, by.shape"
      ],
      "execution_count": null,
      "outputs": [
        {
          "output_type": "execute_result",
          "data": {
            "text/plain": [
              "((377856, 145, 1), (377856,))"
            ]
          },
          "metadata": {
            "tags": []
          },
          "execution_count": 34
        }
      ]
    },
    {
      "cell_type": "code",
      "metadata": {
        "colab": {
          "base_uri": "https://localhost:8080/"
        },
        "id": "DNYLnuVX4i-5",
        "outputId": "6ad8c04a-c587-4f28-a0e0-2e9ecc92c502"
      },
      "source": [
        "uniques, ids = np.unique(by, return_inverse=True)\n",
        "by = np_utils.to_categorical(ids, len(uniques))\n",
        "bx.shape, by.shape"
      ],
      "execution_count": null,
      "outputs": [
        {
          "output_type": "execute_result",
          "data": {
            "text/plain": [
              "((377856, 145, 1), (377856, 15))"
            ]
          },
          "metadata": {
            "tags": []
          },
          "execution_count": 35
        }
      ]
    },
    {
      "cell_type": "code",
      "metadata": {
        "colab": {
          "base_uri": "https://localhost:8080/"
        },
        "id": "TKfLYveS40-w",
        "outputId": "e225ac0a-c793-4b4e-cdbb-3156ba4d9aec"
      },
      "source": [
        "model = Sequential()\n",
        "model.add(Conv1D(16, kernel_size=3, activation='relu', input_shape=(145,1)))\n",
        "model.add(MaxPooling1D(pool_size=2))\n",
        "model.add(Conv1D(32, kernel_size=3, activation='relu', input_shape=(71,16)))\n",
        "model.add(MaxPooling1D(pool_size=2))\n",
        "model.add(Conv1D(64, kernel_size=3, activation='relu', input_shape=(34,32)))\n",
        "model.add(MaxPooling1D(pool_size=2))\n",
        "model.add(Flatten())\n",
        "model.add(Dense(100, activation='relu'))\n",
        "model.add(Dense(15, activation='softmax'))\n",
        "model.summary()"
      ],
      "execution_count": null,
      "outputs": [
        {
          "output_type": "stream",
          "text": [
            "Model: \"sequential_4\"\n",
            "_________________________________________________________________\n",
            "Layer (type)                 Output Shape              Param #   \n",
            "=================================================================\n",
            "conv1d_10 (Conv1D)           (None, 143, 16)           64        \n",
            "_________________________________________________________________\n",
            "max_pooling1d_10 (MaxPooling (None, 71, 16)            0         \n",
            "_________________________________________________________________\n",
            "conv1d_11 (Conv1D)           (None, 69, 32)            1568      \n",
            "_________________________________________________________________\n",
            "max_pooling1d_11 (MaxPooling (None, 34, 32)            0         \n",
            "_________________________________________________________________\n",
            "conv1d_12 (Conv1D)           (None, 32, 64)            6208      \n",
            "_________________________________________________________________\n",
            "max_pooling1d_12 (MaxPooling (None, 16, 64)            0         \n",
            "_________________________________________________________________\n",
            "flatten_4 (Flatten)          (None, 1024)              0         \n",
            "_________________________________________________________________\n",
            "dense_6 (Dense)              (None, 100)               102500    \n",
            "_________________________________________________________________\n",
            "dense_7 (Dense)              (None, 15)                1515      \n",
            "=================================================================\n",
            "Total params: 111,855\n",
            "Trainable params: 111,855\n",
            "Non-trainable params: 0\n",
            "_________________________________________________________________\n"
          ],
          "name": "stdout"
        }
      ]
    },
    {
      "cell_type": "code",
      "metadata": {
        "colab": {
          "base_uri": "https://localhost:8080/"
        },
        "id": "p_47T9yH42Gv",
        "outputId": "ec1c3cb0-f0a6-4f62-8d9b-c87fd4db8424"
      },
      "source": [
        "#spliting the dataset\n",
        "from sklearn.model_selection import train_test_split\n",
        "X_train, X_test, y_train, y_test = train_test_split(bx.reshape(-1,145,1), by, test_size=0.20)\n",
        "X_train.shape, y_train.shape, X_test.shape, y_test.shape"
      ],
      "execution_count": null,
      "outputs": [
        {
          "output_type": "execute_result",
          "data": {
            "text/plain": [
              "((302284, 145, 1), (302284, 15), (75572, 145, 1), (75572, 15))"
            ]
          },
          "metadata": {
            "tags": []
          },
          "execution_count": 37
        }
      ]
    },
    {
      "cell_type": "code",
      "metadata": {
        "colab": {
          "base_uri": "https://localhost:8080/"
        },
        "id": "MlOftaXK6Pnd",
        "outputId": "eab2d5f2-1065-4b7a-b0b4-4e3dbfceae15"
      },
      "source": [
        "model.compile(optimizer='adam', loss='categorical_crossentropy', metrics=['accuracy'])\n",
        "history = model.fit(X_train, y_train, validation_data=(X_test, y_test), epochs=5, batch_size= 5)"
      ],
      "execution_count": null,
      "outputs": [
        {
          "output_type": "stream",
          "text": [
            "Epoch 1/5\n",
            "60457/60457 [==============================] - 256s 4ms/step - loss: 0.3033 - accuracy: 0.9906 - val_loss: 0.0719 - val_accuracy: 0.9915\n",
            "Epoch 2/5\n",
            "60457/60457 [==============================] - 260s 4ms/step - loss: 0.0729 - accuracy: 0.9914 - val_loss: 0.0716 - val_accuracy: 0.9915\n",
            "Epoch 3/5\n",
            "60457/60457 [==============================] - 265s 4ms/step - loss: 0.0726 - accuracy: 0.9914 - val_loss: 0.0717 - val_accuracy: 0.9915\n",
            "Epoch 4/5\n",
            "60457/60457 [==============================] - 279s 5ms/step - loss: 0.0733 - accuracy: 0.9913 - val_loss: 0.0714 - val_accuracy: 0.9915\n",
            "Epoch 5/5\n",
            "60457/60457 [==============================] - 270s 4ms/step - loss: 0.0711 - accuracy: 0.9916 - val_loss: 0.0715 - val_accuracy: 0.9915\n"
          ],
          "name": "stdout"
        }
      ]
    },
    {
      "cell_type": "code",
      "metadata": {
        "colab": {
          "base_uri": "https://localhost:8080/",
          "height": 286
        },
        "id": "uEvzg6Bo6Sfg",
        "outputId": "75a16e41-6c0c-42ed-8c48-b60887661e8e"
      },
      "source": [
        "y_p = model.predict(bx)\n",
        "y_p = uniques[y_p.argmax(1)]\n",
        "y_p = y_p.reshape(1476,256)\n",
        "from matplotlib import pyplot as plt\n",
        "plt.imshow(y_p, interpolation='nearest')\n",
        "plt.show()\n",
        "plt.savefig('Botswana')"
      ],
      "execution_count": null,
      "outputs": [
        {
          "output_type": "display_data",
          "data": {
            "image/png": "[encoded data removed]",
            "text/plain": [
              "<Figure size 432x288 with 1 Axes>"
            ]
          },
          "metadata": {
            "tags": [],
            "needs_background": "light"
          }
        },
        {
          "output_type": "display_data",
          "data": {
            "text/plain": [
              "<Figure size 432x288 with 0 Axes>"
            ]
          },
          "metadata": {
            "tags": []
          }
        }
      ]
    },
    {
      "cell_type": "markdown",
      "metadata": {
        "id": "trZi1-W_AsJ9"
      },
      "source": [
        "PCA - CNN"
      ]
    },
    {
      "cell_type": "code",
      "metadata": {
        "colab": {
          "base_uri": "https://localhost:8080/"
        },
        "id": "0afUt9RcAt30",
        "outputId": "fe58201b-6cde-4f72-f354-1b37392e013e"
      },
      "source": [
        "bx = bx.reshape(-1,145)\n",
        "bx.shape, by.shape"
      ],
      "execution_count": null,
      "outputs": [
        {
          "output_type": "execute_result",
          "data": {
            "text/plain": [
              "((377856, 145), (377856, 15))"
            ]
          },
          "metadata": {
            "tags": []
          },
          "execution_count": 40
        }
      ]
    },
    {
      "cell_type": "code",
      "metadata": {
        "id": "0klZEgGpA36o"
      },
      "source": [
        "from sklearn.decomposition import PCA\n",
        "pca = PCA(n_components=50)\n",
        "pca.fit(bx)\n",
        "reduced_bx = pca.transform(bx)\n",
        "reduced_bx = reduced_bx.reshape(-1,50,1)"
      ],
      "execution_count": null,
      "outputs": []
    },
    {
      "cell_type": "code",
      "metadata": {
        "colab": {
          "base_uri": "https://localhost:8080/"
        },
        "id": "RHPgoWT1BAsC",
        "outputId": "cb6073d8-344e-4c93-ceed-686cbd693955"
      },
      "source": [
        "model = Sequential()\n",
        "model.add(Conv1D(16, kernel_size=3, activation='relu', input_shape=(50,1)))\n",
        "model.add(MaxPooling1D(pool_size=2))\n",
        "model.add(Conv1D(32, kernel_size=3, activation='relu', input_shape=(24,16)))\n",
        "model.add(MaxPooling1D(pool_size=2))\n",
        "model.add(Flatten())\n",
        "model.add(Dense(15, activation='softmax'))\n",
        "model.summary()"
      ],
      "execution_count": null,
      "outputs": [
        {
          "output_type": "stream",
          "text": [
            "Model: \"sequential_5\"\n",
            "_________________________________________________________________\n",
            "Layer (type)                 Output Shape              Param #   \n",
            "=================================================================\n",
            "conv1d_13 (Conv1D)           (None, 48, 16)            64        \n",
            "_________________________________________________________________\n",
            "max_pooling1d_13 (MaxPooling (None, 24, 16)            0         \n",
            "_________________________________________________________________\n",
            "conv1d_14 (Conv1D)           (None, 22, 32)            1568      \n",
            "_________________________________________________________________\n",
            "max_pooling1d_14 (MaxPooling (None, 11, 32)            0         \n",
            "_________________________________________________________________\n",
            "flatten_5 (Flatten)          (None, 352)               0         \n",
            "_________________________________________________________________\n",
            "dense_8 (Dense)              (None, 15)                5295      \n",
            "=================================================================\n",
            "Total params: 6,927\n",
            "Trainable params: 6,927\n",
            "Non-trainable params: 0\n",
            "_________________________________________________________________\n"
          ],
          "name": "stdout"
        }
      ]
    },
    {
      "cell_type": "code",
      "metadata": {
        "colab": {
          "base_uri": "https://localhost:8080/"
        },
        "id": "Je2I2JyeBFwB",
        "outputId": "55b53e2d-403e-4906-d9ab-9e59125b34c7"
      },
      "source": [
        "#spliting the dataset\n",
        "from sklearn.model_selection import train_test_split\n",
        "X_train, X_test, y_train, y_test = train_test_split(reduced_bx, by, test_size=0.30)\n",
        "X_train.shape, y_train.shape, X_test.shape, y_test.shape"
      ],
      "execution_count": null,
      "outputs": [
        {
          "output_type": "execute_result",
          "data": {
            "text/plain": [
              "((264499, 50, 1), (264499, 15), (113357, 50, 1), (113357, 15))"
            ]
          },
          "metadata": {
            "tags": []
          },
          "execution_count": 43
        }
      ]
    },
    {
      "cell_type": "code",
      "metadata": {
        "colab": {
          "base_uri": "https://localhost:8080/"
        },
        "id": "831UkmU1BL8J",
        "outputId": "10bf2790-5c8e-4965-c92a-0b53e81bd14d"
      },
      "source": [
        "model.compile(optimizer='adam', loss='categorical_crossentropy', metrics=['accuracy'])\n",
        "history = model.fit(X_train, y_train, validation_data=(X_test, y_test), epochs=5, batch_size= 5)"
      ],
      "execution_count": null,
      "outputs": [
        {
          "output_type": "stream",
          "text": [
            "Epoch 1/5\n",
            "52900/52900 [==============================] - 109s 2ms/step - loss: 0.4436 - accuracy: 0.9874 - val_loss: 0.0832 - val_accuracy: 0.9913\n",
            "Epoch 2/5\n",
            "52900/52900 [==============================] - 102s 2ms/step - loss: 0.0959 - accuracy: 0.9913 - val_loss: 0.0720 - val_accuracy: 0.9913\n",
            "Epoch 3/5\n",
            "52900/52900 [==============================] - 101s 2ms/step - loss: 0.1109 - accuracy: 0.9915 - val_loss: 0.1361 - val_accuracy: 0.9913\n",
            "Epoch 4/5\n",
            "52900/52900 [==============================] - 103s 2ms/step - loss: 0.1055 - accuracy: 0.9918 - val_loss: 0.0724 - val_accuracy: 0.9913\n",
            "Epoch 5/5\n",
            "52900/52900 [==============================] - 105s 2ms/step - loss: 0.1333 - accuracy: 0.9913 - val_loss: 0.0723 - val_accuracy: 0.9913\n"
          ],
          "name": "stdout"
        }
      ]
    },
    {
      "cell_type": "code",
      "metadata": {
        "id": "J9JhUEnLBPB0",
        "colab": {
          "base_uri": "https://localhost:8080/",
          "height": 286
        },
        "outputId": "8b5cea94-0dff-4641-b186-a18798df6bab"
      },
      "source": [
        "y_p_pca = model.predict(reduced_bx)\n",
        "y_p_pca = uniques[y_p_pca.argmax(1)]\n",
        "y_p_pca = y_p_pca.reshape(1476,256)\n",
        "from matplotlib import pyplot as plt\n",
        "plt.imshow(y_p_pca, interpolation='nearest')\n",
        "plt.show()\n",
        "plt.savefig('Botswana with PCA')"
      ],
      "execution_count": null,
      "outputs": [
        {
          "output_type": "display_data",
          "data": {
            "image/png": "[encoded data removed]",
            "text/plain": [
              "<Figure size 432x288 with 1 Axes>"
            ]
          },
          "metadata": {
            "tags": [],
            "needs_background": "light"
          }
        },
        {
          "output_type": "display_data",
          "data": {
            "text/plain": [
              "<Figure size 432x288 with 0 Axes>"
            ]
          },
          "metadata": {
            "tags": []
          }
        }
      ]
    },
    {
      "cell_type": "markdown",
      "metadata": {
        "id": "RE1mxPdttLRq"
      },
      "source": [
        "**INDIAN PINES**\n",
        "\n"
      ]
    },
    {
      "cell_type": "markdown",
      "metadata": {
        "id": "10DYwzIa6FY-"
      },
      "source": [
        "CNN"
      ]
    },
    {
      "cell_type": "code",
      "metadata": {
        "id": "LVfAkrtLB67j",
        "colab": {
          "base_uri": "https://localhost:8080/"
        },
        "outputId": "4ba3711d-0318-427c-8fc6-f42184ef2ba2"
      },
      "source": [
        "ipx = loadmat('/content/drive/MyDrive/HSI/Indian_pines.mat')['indian_pines']\n",
        "ipy = loadmat('/content/drive/MyDrive/HSI/Indian_pines_gt.mat')['indian_pines_gt']\n",
        "ipx.shape,ipy.shape"
      ],
      "execution_count": null,
      "outputs": [
        {
          "output_type": "execute_result",
          "data": {
            "text/plain": [
              "((145, 145, 220), (145, 145))"
            ]
          },
          "metadata": {
            "tags": []
          },
          "execution_count": 50
        }
      ]
    },
    {
      "cell_type": "code",
      "metadata": {
        "id": "AL19ZHC8CAMt",
        "colab": {
          "base_uri": "https://localhost:8080/",
          "height": 269
        },
        "outputId": "16e2e7d8-349f-4750-f939-dda8c7c4deb5"
      },
      "source": [
        "import matplotlib.pyplot as plt\n",
        "plt.imshow(ipy)\n",
        "plt.savefig('Indian Pines ground truth')"
      ],
      "execution_count": null,
      "outputs": [
        {
          "output_type": "display_data",
          "data": {
            "image/png": "[encoded data removed]",
            "text/plain": [
              "<Figure size 432x288 with 1 Axes>"
            ]
          },
          "metadata": {
            "tags": [],
            "needs_background": "light"
          }
        }
      ]
    },
    {
      "cell_type": "code",
      "metadata": {
        "id": "NKkD9aDXB2NO",
        "colab": {
          "base_uri": "https://localhost:8080/"
        },
        "outputId": "ab712e27-ede1-48d4-ad87-28605a177faa"
      },
      "source": [
        "ipx = ipx.reshape(145*145,220,1)\n",
        "ipy = ipy.reshape(145*145)\n",
        "ipx.shape, ipy.shape"
      ],
      "execution_count": null,
      "outputs": [
        {
          "output_type": "execute_result",
          "data": {
            "text/plain": [
              "((21025, 220, 1), (21025,))"
            ]
          },
          "metadata": {
            "tags": []
          },
          "execution_count": 52
        }
      ]
    },
    {
      "cell_type": "code",
      "metadata": {
        "colab": {
          "base_uri": "https://localhost:8080/"
        },
        "id": "o2iSj-Tc3mMd",
        "outputId": "c444696d-bb03-475b-8153-70ee7c1df7b7"
      },
      "source": [
        "uniques, ids = np.unique(ipy, return_inverse=True)\n",
        "ipy = np_utils.to_categorical(ids, len(uniques))\n",
        "ipx.shape, ipy.shape"
      ],
      "execution_count": null,
      "outputs": [
        {
          "output_type": "execute_result",
          "data": {
            "text/plain": [
              "((21025, 220, 1), (21025, 17))"
            ]
          },
          "metadata": {
            "tags": []
          },
          "execution_count": 53
        }
      ]
    },
    {
      "cell_type": "code",
      "metadata": {
        "colab": {
          "base_uri": "https://localhost:8080/"
        },
        "id": "LsL_nUra6IPc",
        "outputId": "f20a4eac-3119-45b6-cdbb-06d6aa69992b"
      },
      "source": [
        "model = Sequential()\n",
        "model.add(Conv1D(16, kernel_size=3, activation='relu', input_shape=(220,1)))\n",
        "model.add(MaxPooling1D(pool_size=2))\n",
        "model.add(Conv1D(32, kernel_size=3, activation='relu', input_shape=(109,16)))\n",
        "model.add(MaxPooling1D(pool_size=2))\n",
        "model.add(Conv1D(64, kernel_size=3, activation='relu', input_shape=(53,32)))\n",
        "model.add(MaxPooling1D(pool_size=2))\n",
        "model.add(Flatten())\n",
        "model.add(Dense(100, activation='relu'))\n",
        "model.add(Dense(17, activation='softmax'))\n",
        "model.summary()"
      ],
      "execution_count": null,
      "outputs": [
        {
          "output_type": "stream",
          "text": [
            "Model: \"sequential_7\"\n",
            "_________________________________________________________________\n",
            "Layer (type)                 Output Shape              Param #   \n",
            "=================================================================\n",
            "conv1d_18 (Conv1D)           (None, 218, 16)           64        \n",
            "_________________________________________________________________\n",
            "max_pooling1d_18 (MaxPooling (None, 109, 16)           0         \n",
            "_________________________________________________________________\n",
            "conv1d_19 (Conv1D)           (None, 107, 32)           1568      \n",
            "_________________________________________________________________\n",
            "max_pooling1d_19 (MaxPooling (None, 53, 32)            0         \n",
            "_________________________________________________________________\n",
            "conv1d_20 (Conv1D)           (None, 51, 64)            6208      \n",
            "_________________________________________________________________\n",
            "max_pooling1d_20 (MaxPooling (None, 25, 64)            0         \n",
            "_________________________________________________________________\n",
            "flatten_7 (Flatten)          (None, 1600)              0         \n",
            "_________________________________________________________________\n",
            "dense_11 (Dense)             (None, 100)               160100    \n",
            "_________________________________________________________________\n",
            "dense_12 (Dense)             (None, 17)                1717      \n",
            "=================================================================\n",
            "Total params: 169,657\n",
            "Trainable params: 169,657\n",
            "Non-trainable params: 0\n",
            "_________________________________________________________________\n"
          ],
          "name": "stdout"
        }
      ]
    },
    {
      "cell_type": "code",
      "metadata": {
        "colab": {
          "base_uri": "https://localhost:8080/"
        },
        "id": "vh6Ysgph4KQn",
        "outputId": "65ebddb2-4e1e-4ad5-eb3b-62786336a9cd"
      },
      "source": [
        "X_train, X_test, y_train, y_test = train_test_split(ipx.reshape(-1,220,1), ipy, test_size=0.20)\n",
        "X_train.shape, y_train.shape, X_test.shape, y_test.shape"
      ],
      "execution_count": null,
      "outputs": [
        {
          "output_type": "execute_result",
          "data": {
            "text/plain": [
              "((16820, 220, 1), (16820, 17), (4205, 220, 1), (4205, 17))"
            ]
          },
          "metadata": {
            "tags": []
          },
          "execution_count": 57
        }
      ]
    },
    {
      "cell_type": "code",
      "metadata": {
        "id": "Wf5Afj3hCOaV",
        "colab": {
          "base_uri": "https://localhost:8080/"
        },
        "outputId": "2c5fb543-7f11-47be-e1db-9c24e8332428"
      },
      "source": [
        "model.compile(optimizer='adam', loss='categorical_crossentropy', metrics=['accuracy'])\n",
        "history = model.fit(X_train, y_train, validation_data=(X_test, y_test), epochs=5, batch_size= 5)"
      ],
      "execution_count": null,
      "outputs": [
        {
          "output_type": "stream",
          "text": [
            "Epoch 1/5\n",
            "3364/3364 [==============================] - 19s 5ms/step - loss: 16.0430 - accuracy: 0.4624 - val_loss: 1.5733 - val_accuracy: 0.5054\n",
            "Epoch 2/5\n",
            "3364/3364 [==============================] - 18s 5ms/step - loss: 1.4904 - accuracy: 0.5376 - val_loss: 2.1318 - val_accuracy: 0.5056\n",
            "Epoch 3/5\n",
            "3364/3364 [==============================] - 18s 5ms/step - loss: 1.9476 - accuracy: 0.5113 - val_loss: 1.8672 - val_accuracy: 0.5056\n",
            "Epoch 4/5\n",
            "3364/3364 [==============================] - 18s 5ms/step - loss: 1.8165 - accuracy: 0.5184 - val_loss: 1.8523 - val_accuracy: 0.5056\n",
            "Epoch 5/5\n",
            "3364/3364 [==============================] - 18s 5ms/step - loss: 1.8479 - accuracy: 0.5068 - val_loss: 1.8510 - val_accuracy: 0.5056\n"
          ],
          "name": "stdout"
        }
      ]
    },
    {
      "cell_type": "code",
      "metadata": {
        "id": "1OyqYPasCans",
        "colab": {
          "base_uri": "https://localhost:8080/",
          "height": 286
        },
        "outputId": "9d461c13-6f8c-477a-c960-b084958581ef"
      },
      "source": [
        "y_ip = model.predict(ipx)\n",
        "y_ip = uniques[y_ip.argmax(1)]\n",
        "y_ip = y_ip.reshape(145,145)\n",
        "from matplotlib import pyplot as plt\n",
        "plt.imshow(y_ip, interpolation='nearest')\n",
        "plt.show()\n",
        "plt.savefig('Indian Pines')"
      ],
      "execution_count": null,
      "outputs": [
        {
          "output_type": "display_data",
          "data": {
            "image/png": "[encoded data removed]",
            "text/plain": [
              "<Figure size 432x288 with 1 Axes>"
            ]
          },
          "metadata": {
            "tags": [],
            "needs_background": "light"
          }
        },
        {
          "output_type": "display_data",
          "data": {
            "text/plain": [
              "<Figure size 432x288 with 0 Axes>"
            ]
          },
          "metadata": {
            "tags": []
          }
        }
      ]
    },
    {
      "cell_type": "markdown",
      "metadata": {
        "id": "9eI9nkuJCkTW"
      },
      "source": [
        "CNN - PCA"
      ]
    },
    {
      "cell_type": "code",
      "metadata": {
        "id": "9cqvWTpICpMZ",
        "colab": {
          "base_uri": "https://localhost:8080/"
        },
        "outputId": "5edd643a-2e25-4271-da46-df5437f00c11"
      },
      "source": [
        "ipx = ipx.reshape(-1,220)\n",
        "ipx.shape, ipy.shape"
      ],
      "execution_count": null,
      "outputs": [
        {
          "output_type": "execute_result",
          "data": {
            "text/plain": [
              "((21025, 220), (21025, 17))"
            ]
          },
          "metadata": {
            "tags": []
          },
          "execution_count": 60
        }
      ]
    },
    {
      "cell_type": "code",
      "metadata": {
        "id": "hkimyJMAJbY3"
      },
      "source": [
        "from sklearn.decomposition import PCA\n",
        "pca = PCA(n_components=50)\n",
        "pca.fit(ipx)\n",
        "reduced_ipx = pca.transform(ipx)\n",
        "reduced_ipx = reduced_bx.reshape(-1,50,1)"
      ],
      "execution_count": null,
      "outputs": []
    },
    {
      "cell_type": "code",
      "metadata": {
        "id": "_hKB72VRJiyj"
      },
      "source": [],
      "execution_count": null,
      "outputs": []
    },
    {
      "cell_type": "markdown",
      "metadata": {
        "id": "wLKP6sXBClgP"
      },
      "source": [
        "Pavia\n",
        "\n",
        "\n",
        "\n"
      ]
    },
    {
      "cell_type": "markdown",
      "metadata": {
        "id": "C0iXgBFfCoUt"
      },
      "source": [
        "CNN"
      ]
    },
    {
      "cell_type": "code",
      "metadata": {
        "id": "Yvwq55mtCroL",
        "colab": {
          "base_uri": "https://localhost:8080/"
        },
        "outputId": "128e83a2-8660-43d3-e265-0fca09ca8c9a"
      },
      "source": [
        "px = loadmat('/content/drive/MyDrive/HSI/Pavia.mat')['pavia']\n",
        "py = loadmat('/content/drive/MyDrive/HSI/Pavia_gt.mat')['pavia_gt']\n",
        "px.shape,py.shape"
      ],
      "execution_count": null,
      "outputs": [
        {
          "output_type": "execute_result",
          "data": {
            "text/plain": [
              "((1096, 715, 102), (1096, 715))"
            ]
          },
          "metadata": {
            "tags": []
          },
          "execution_count": 64
        }
      ]
    },
    {
      "cell_type": "code",
      "metadata": {
        "id": "WZhd0ZK-C3cd",
        "colab": {
          "base_uri": "https://localhost:8080/",
          "height": 269
        },
        "outputId": "6709b191-f571-47e6-d20f-6884acb379a1"
      },
      "source": [
        "plt.imshow(py)\n",
        "plt.savefig('Pavia ground truth')"
      ],
      "execution_count": null,
      "outputs": [
        {
          "output_type": "display_data",
          "data": {
            "image/png": "[encoded data removed]",
            "text/plain": [
              "<Figure size 432x288 with 1 Axes>"
            ]
          },
          "metadata": {
            "tags": [],
            "needs_background": "light"
          }
        }
      ]
    },
    {
      "cell_type": "code",
      "metadata": {
        "id": "JvhktXOEC4G8",
        "colab": {
          "base_uri": "https://localhost:8080/"
        },
        "outputId": "aab0c2c2-a84c-438c-f913-25fece079e90"
      },
      "source": [
        "px = px.reshape(1096*715,102,1)\n",
        "py = py.reshape(1096*715)\n",
        "px.shape,py.shape"
      ],
      "execution_count": null,
      "outputs": [
        {
          "output_type": "execute_result",
          "data": {
            "text/plain": [
              "((783640, 102, 1), (783640,))"
            ]
          },
          "metadata": {
            "tags": []
          },
          "execution_count": 66
        }
      ]
    },
    {
      "cell_type": "code",
      "metadata": {
        "id": "irHwbYLdC8XA",
        "colab": {
          "base_uri": "https://localhost:8080/"
        },
        "outputId": "d953486a-faa2-4f69-f251-f26b61c354ea"
      },
      "source": [
        "uniques, ids = np.unique(py, return_inverse=True)\n",
        "len(uniques)\n",
        "py = np_utils.to_categorical(ids, len(uniques))\n",
        "py.shape"
      ],
      "execution_count": null,
      "outputs": [
        {
          "output_type": "execute_result",
          "data": {
            "text/plain": [
              "(783640, 10)"
            ]
          },
          "metadata": {
            "tags": []
          },
          "execution_count": 67
        }
      ]
    },
    {
      "cell_type": "code",
      "metadata": {
        "id": "hw0zYZJXC8Ri",
        "colab": {
          "base_uri": "https://localhost:8080/"
        },
        "outputId": "b041186f-8e77-4967-a388-25eda76b7491"
      },
      "source": [
        "model = Sequential()\n",
        "model.add(Conv1D(16, kernel_size=3, activation='relu', input_shape=(102,1)))\n",
        "model.add(MaxPooling1D(pool_size=2))\n",
        "model.add(Conv1D(32, kernel_size=3, activation='relu', input_shape=(50,16)))\n",
        "model.add(MaxPooling1D(pool_size=2))\n",
        "model.add(Flatten())\n",
        "model.add(Dense(100, activation='relu'))\n",
        "model.add(Dense(10, activation='softmax'))\n",
        "model.summary()"
      ],
      "execution_count": null,
      "outputs": [
        {
          "output_type": "stream",
          "text": [
            "Model: \"sequential_8\"\n",
            "_________________________________________________________________\n",
            "Layer (type)                 Output Shape              Param #   \n",
            "=================================================================\n",
            "conv1d_21 (Conv1D)           (None, 100, 16)           64        \n",
            "_________________________________________________________________\n",
            "max_pooling1d_21 (MaxPooling (None, 50, 16)            0         \n",
            "_________________________________________________________________\n",
            "conv1d_22 (Conv1D)           (None, 48, 32)            1568      \n",
            "_________________________________________________________________\n",
            "max_pooling1d_22 (MaxPooling (None, 24, 32)            0         \n",
            "_________________________________________________________________\n",
            "flatten_8 (Flatten)          (None, 768)               0         \n",
            "_________________________________________________________________\n",
            "dense_13 (Dense)             (None, 100)               76900     \n",
            "_________________________________________________________________\n",
            "dense_14 (Dense)             (None, 10)                1010      \n",
            "=================================================================\n",
            "Total params: 79,542\n",
            "Trainable params: 79,542\n",
            "Non-trainable params: 0\n",
            "_________________________________________________________________\n"
          ],
          "name": "stdout"
        }
      ]
    },
    {
      "cell_type": "code",
      "metadata": {
        "id": "xMxd14KRDNgt",
        "colab": {
          "base_uri": "https://localhost:8080/"
        },
        "outputId": "57446640-19a1-4dab-eacc-e25242fcd69a"
      },
      "source": [
        "X_train, X_test, y_train, y_test = train_test_split(px, py, test_size=0.30)\n",
        "X_train.shape, y_train.shape, X_test.shape, y_test.shape"
      ],
      "execution_count": null,
      "outputs": [
        {
          "output_type": "execute_result",
          "data": {
            "text/plain": [
              "((548548, 102, 1), (548548, 10), (235092, 102, 1), (235092, 10))"
            ]
          },
          "metadata": {
            "tags": []
          },
          "execution_count": 69
        }
      ]
    },
    {
      "cell_type": "code",
      "metadata": {
        "id": "8ZOp9G2xDRD0",
        "colab": {
          "base_uri": "https://localhost:8080/"
        },
        "outputId": "f199bd72-67bf-402a-ad29-51665244b6da"
      },
      "source": [
        "model.compile(optimizer='adam', loss='categorical_crossentropy', metrics=['accuracy'])\n",
        "history = model.fit(X_train, y_train, validation_data=(X_test, y_test), epochs=5)"
      ],
      "execution_count": null,
      "outputs": [
        {
          "output_type": "stream",
          "text": [
            "Epoch 1/5\n",
            "17143/17143 [==============================] - 109s 6ms/step - loss: 2.7549 - accuracy: 0.8560 - val_loss: 0.3123 - val_accuracy: 0.8789\n",
            "Epoch 2/5\n",
            "17143/17143 [==============================] - 108s 6ms/step - loss: 0.3050 - accuracy: 0.8829 - val_loss: 0.3094 - val_accuracy: 0.8809\n",
            "Epoch 3/5\n",
            "17143/17143 [==============================] - 106s 6ms/step - loss: 0.2873 - accuracy: 0.8860 - val_loss: 0.2804 - val_accuracy: 0.8872\n",
            "Epoch 4/5\n",
            "17143/17143 [==============================] - 107s 6ms/step - loss: 0.2812 - accuracy: 0.8874 - val_loss: 0.2738 - val_accuracy: 0.8888\n",
            "Epoch 5/5\n",
            "17143/17143 [==============================] - 109s 6ms/step - loss: 0.2794 - accuracy: 0.8884 - val_loss: 0.2743 - val_accuracy: 0.8889\n"
          ],
          "name": "stdout"
        }
      ]
    },
    {
      "cell_type": "code",
      "metadata": {
        "id": "hJu6RNXuDaAA",
        "colab": {
          "base_uri": "https://localhost:8080/",
          "height": 286
        },
        "outputId": "82fa9f0a-a6dc-49ec-b512-e7ac107a2c22"
      },
      "source": [
        "y_p = model.predict(px)\n",
        "y_p = uniques[y_p.argmax(1)]\n",
        "y_p = y_p.reshape(1096,715)\n",
        "from matplotlib import pyplot as plt\n",
        "plt.imshow(y_p, interpolation='nearest')\n",
        "plt.show()\n",
        "plt.savefig('Pavia')"
      ],
      "execution_count": null,
      "outputs": [
        {
          "output_type": "display_data",
          "data": {
            "image/png": "[encoded data removed]",
            "text/plain": [
              "<Figure size 432x288 with 1 Axes>"
            ]
          },
          "metadata": {
            "tags": [],
            "needs_background": "light"
          }
        },
        {
          "output_type": "display_data",
          "data": {
            "text/plain": [
              "<Figure size 432x288 with 0 Axes>"
            ]
          },
          "metadata": {
            "tags": []
          }
        }
      ]
    },
    {
      "cell_type": "markdown",
      "metadata": {
        "id": "hcT3ZMcADbdt"
      },
      "source": [
        "CNN - PCA"
      ]
    },
    {
      "cell_type": "code",
      "metadata": {
        "id": "_8tjN1nWDdw8",
        "colab": {
          "base_uri": "https://localhost:8080/"
        },
        "outputId": "030c226b-91cf-4e35-d3b5-79c8a1412334"
      },
      "source": [
        "px = px.reshape(-1,102)\n",
        "px.shape,py.shape"
      ],
      "execution_count": null,
      "outputs": [
        {
          "output_type": "execute_result",
          "data": {
            "text/plain": [
              "((783640, 102), (783640, 10))"
            ]
          },
          "metadata": {
            "tags": []
          },
          "execution_count": 72
        }
      ]
    },
    {
      "cell_type": "code",
      "metadata": {
        "id": "Bna5f0TkD1jQ"
      },
      "source": [
        "from sklearn.decomposition import PCA\n",
        "pca = PCA(n_components=50)\n",
        "pca.fit(px)\n",
        "reduced_px = pca.transform(px)\n",
        "reduced_px = reduced_px.reshape(-1,50,1) "
      ],
      "execution_count": null,
      "outputs": []
    },
    {
      "cell_type": "code",
      "metadata": {
        "id": "qxTN6OyzD1bn",
        "colab": {
          "base_uri": "https://localhost:8080/"
        },
        "outputId": "ce80427c-a9bb-4782-c17c-69f41375b6a2"
      },
      "source": [
        "model = Sequential()\n",
        "model.add(Conv1D(16, kernel_size=3, activation='relu', input_shape=(50,1)))\n",
        "model.add(MaxPooling1D(pool_size=2))\n",
        "model.add(Conv1D(32, kernel_size=3, activation='relu', input_shape=(24,16)))\n",
        "model.add(MaxPooling1D(pool_size=2))\n",
        "model.add(Flatten())\n",
        "model.add(Dense(10, activation='softmax'))\n",
        "model.summary()"
      ],
      "execution_count": null,
      "outputs": [
        {
          "output_type": "stream",
          "text": [
            "Model: \"sequential_10\"\n",
            "_________________________________________________________________\n",
            "Layer (type)                 Output Shape              Param #   \n",
            "=================================================================\n",
            "conv1d_25 (Conv1D)           (None, 48, 16)            64        \n",
            "_________________________________________________________________\n",
            "max_pooling1d_25 (MaxPooling (None, 24, 16)            0         \n",
            "_________________________________________________________________\n",
            "conv1d_26 (Conv1D)           (None, 22, 32)            1568      \n",
            "_________________________________________________________________\n",
            "max_pooling1d_26 (MaxPooling (None, 11, 32)            0         \n",
            "_________________________________________________________________\n",
            "flatten_10 (Flatten)         (None, 352)               0         \n",
            "_________________________________________________________________\n",
            "dense_16 (Dense)             (None, 10)                3530      \n",
            "=================================================================\n",
            "Total params: 5,162\n",
            "Trainable params: 5,162\n",
            "Non-trainable params: 0\n",
            "_________________________________________________________________\n"
          ],
          "name": "stdout"
        }
      ]
    },
    {
      "cell_type": "code",
      "metadata": {
        "id": "209XLGmvD1U1",
        "colab": {
          "base_uri": "https://localhost:8080/"
        },
        "outputId": "73089928-2068-4b2a-a38e-798131baccf6"
      },
      "source": [
        "X_train, X_test, y_train, y_test = train_test_split(reduced_px, py, test_size=0.30)\n",
        "X_train.shape, y_train.shape, X_test.shape, y_test.shape"
      ],
      "execution_count": null,
      "outputs": [
        {
          "output_type": "execute_result",
          "data": {
            "text/plain": [
              "((548548, 50, 1), (548548, 10), (235092, 50, 1), (235092, 10))"
            ]
          },
          "metadata": {
            "tags": []
          },
          "execution_count": 76
        }
      ]
    },
    {
      "cell_type": "code",
      "metadata": {
        "id": "EdSI0IIWEGLm",
        "colab": {
          "base_uri": "https://localhost:8080/"
        },
        "outputId": "2e32dbaa-ccfb-4956-ae96-05e68a661b0a"
      },
      "source": [
        "model.compile(optimizer='adam', loss='categorical_crossentropy', metrics=['accuracy'])\n",
        "history = model.fit(X_train, y_train, validation_data=(X_test, y_test), epochs=5)"
      ],
      "execution_count": null,
      "outputs": [
        {
          "output_type": "stream",
          "text": [
            "Epoch 1/5\n",
            "17143/17143 [==============================] - 64s 4ms/step - loss: 1.8186 - accuracy: 0.8434 - val_loss: 0.3097 - val_accuracy: 0.8795\n",
            "Epoch 2/5\n",
            "17143/17143 [==============================] - 63s 4ms/step - loss: 0.3149 - accuracy: 0.8774 - val_loss: 0.2979 - val_accuracy: 0.8825\n",
            "Epoch 3/5\n",
            "17143/17143 [==============================] - 63s 4ms/step - loss: 0.3070 - accuracy: 0.8789 - val_loss: 0.3102 - val_accuracy: 0.8797\n",
            "Epoch 4/5\n",
            "17143/17143 [==============================] - 63s 4ms/step - loss: 0.3045 - accuracy: 0.8792 - val_loss: 0.2958 - val_accuracy: 0.8814\n",
            "Epoch 5/5\n",
            "17143/17143 [==============================] - 63s 4ms/step - loss: 0.3008 - accuracy: 0.8809 - val_loss: 0.3109 - val_accuracy: 0.8773\n"
          ],
          "name": "stdout"
        }
      ]
    },
    {
      "cell_type": "code",
      "metadata": {
        "id": "_3GHcffaEGIH",
        "colab": {
          "base_uri": "https://localhost:8080/",
          "height": 286
        },
        "outputId": "12e6a935-2c17-4268-fcfa-f8d3ea4fd118"
      },
      "source": [
        "y_p_pca = model.predict(reduced_px)\n",
        "y_p_pca = uniques[y_p_pca.argmax(1)]\n",
        "y_p_pca = y_p_pca.reshape(1096,715)\n",
        "from matplotlib import pyplot as plt\n",
        "plt.imshow(y_p_pca, interpolation='nearest')\n",
        "plt.show()\n",
        "plt.savefig('Pavia with PCA')"
      ],
      "execution_count": null,
      "outputs": [
        {
          "output_type": "display_data",
          "data": {
            "image/png": "[encoded data removed]",
            "text/plain": [
              "<Figure size 432x288 with 1 Axes>"
            ]
          },
          "metadata": {
            "tags": [],
            "needs_background": "light"
          }
        },
        {
          "output_type": "display_data",
          "data": {
            "text/plain": [
              "<Figure size 432x288 with 0 Axes>"
            ]
          },
          "metadata": {
            "tags": []
          }
        }
      ]
    },
    {
      "cell_type": "markdown",
      "metadata": {
        "id": "SHTS33CAGuVX"
      },
      "source": [
        "GAN"
      ]
    },
    {
      "cell_type": "code",
      "metadata": {
        "id": "yhPbFMEIIowI"
      },
      "source": [
        "def gan(g_model, d_model):\n",
        "\tfor layer in d_model.layers:\n",
        "\t\tif not isinstance(layer, BatchNormalization):\n",
        "\t\t\tlayer.trainable = False\n",
        "\t# connect the outputs of the generator to the inputs of the discriminator\n",
        "\tgan_output = d_model(g_model.output)\n",
        "\t# define gan model as taking noise and label and outputting real/fake and label outputs\n",
        "\tmodel = Model(g_model.input, gan_output)\n",
        "\t# compile model\n",
        "\topt = Adam(lr=0.0002, beta_1=0.5)\n",
        "\tmodel.compile(loss=['binary_crossentropy', 'sparse_categorical_crossentropy'], optimizer=opt)\n",
        "\treturn model"
      ],
      "execution_count": null,
      "outputs": []
    },
    {
      "cell_type": "code",
      "metadata": {
        "id": "1nL6qUhDtP3g"
      },
      "source": [
        "# generate points in latent space as input for the generator\n",
        "def generate_latent_points(latent_dim, n_samples, n_classes=17):\n",
        "\t# generate points in the latent space\n",
        "\tx_input = randn(latent_dim * n_samples)\n",
        "\t# reshape into a batch of inputs for the network\n",
        "\tz_input = x_input.reshape(n_samples, latent_dim)\n",
        "\t# generate labels\n",
        "\tlabels = randint(0, n_classes, n_samples)\n",
        "\treturn [z_input, labels]"
      ],
      "execution_count": null,
      "outputs": []
    },
    {
      "cell_type": "code",
      "metadata": {
        "id": "GvQGX0mXuqCw"
      },
      "source": [
        "# use the generator to generate n fake examples, with class labels\n",
        "def generate_fake_samples(generator, latent_dim, n_samples):\n",
        "\t# generate points in latent space\n",
        "\tz_input, labels_input = generate_latent_points(latent_dim, n_samples)\n",
        "\t# predict outputs\n",
        "\timages = generator.predict([z_input, labels_input])\n",
        "\t# create class labels\n",
        "\ty = zeros((n_samples, 1))\n",
        "\treturn [images, labels_input], y"
      ],
      "execution_count": null,
      "outputs": []
    },
    {
      "cell_type": "code",
      "metadata": {
        "colab": {
          "base_uri": "https://localhost:8080/"
        },
        "id": "22ZreywJOax0",
        "outputId": "56d5f0cc-4f81-4cbf-cad5-222a29a1f689"
      },
      "source": [
        "#spliting the dataset\n",
        "from sklearn.model_selection import train_test_split\n",
        "X_train, X_test, y_train, y_test = train_test_split(ipx.reshape(-1,200,1), ipy, test_size=0.20)\n",
        "X_train.shape, y_train.shape, X_test.shape, y_test.shape"
      ],
      "execution_count": null,
      "outputs": [
        {
          "output_type": "execute_result",
          "data": {
            "text/plain": [
              "((16820, 200, 1), (16820, 17), (4205, 200, 1), (4205, 17))"
            ]
          },
          "metadata": {
            "tags": []
          },
          "execution_count": 61
        }
      ]
    },
    {
      "cell_type": "code",
      "metadata": {
        "id": "mL5FcIIVOj4P"
      },
      "source": [
        "def train(g_model, d_model, gan_model, dataset, latent_dim, n_epochs=100, n_batch=64):\n",
        "\t# calculate the number of batches per training epoch\n",
        "\tbat_per_epo = int(dataset[0].shape[0] / n_batch)\n",
        "\t# calculate the number of training iterations\n",
        "\tn_steps = bat_per_epo * n_epochs\n",
        "\t# calculate the size of half a batch of samples\n",
        "\thalf_batch = int(n_batch / 2)\n",
        "\t# manually enumerate epochs\n",
        "  print(\"asdadsasdas\")\n",
        "\tfor i in range(n_steps):\n",
        "  #  print('asxccvvvvvvvvvvvv')\n",
        "\t\t# get randomly selected 'real' samples\n",
        "\t\t[X_real, labels_real], y_real = generate_real_samples(dataset, half_batch)\n",
        "\t\t# update discriminator model weights\n",
        "\t\t_,d_r1,d_r2 = d_model.train_on_batch(X_real, [y_real, labels_real])\n",
        "\t\t# generate 'fake' examples\n",
        "\t\t[X_fake, labels_fake], y_fake = generate_fake_samples(g_model, latent_dim, half_batch)\n",
        "\t\t# update discriminator model weights\n",
        "\t\t_,d_f,d_f2 = d_model.train_on_batch(X_fake, [y_fake, labels_fake])\n",
        "\t\t# prepare points in latent space as input for the generator\n",
        "\t\t[z_input, z_labels] = generate_latent_points(latent_dim, n_batch)\n",
        "\t\t# create inverted labels for the fake samples\n",
        "\t\ty_gan = ones((n_batch, 1))\n",
        "\t\t# update the generator via the discriminator's error\n",
        "\t\t_,g_1,g_2 = gan_model.train_on_batch([z_input, z_labels], [y_gan, z_labels])\n",
        "\t\t# summarize loss on this batch\n",
        "    # print('trainidn started')\n",
        "\t\tprint('>%d, dr[%.3f,%.3f], df[%.3f,%.3f], g[%.3f,%.3f]' % (i+1, d_r1,d_r2, d_f,d_f2, g_1,g_2))\n",
        "\t\t# evaluate the model performance every 'epoch'\n",
        "\t\tif (i+1) % (bat_per_epo * 10) == 0:\n",
        "\t\t\tsummarize_performance(i, g_model, latent_dim)\n",
        "  #  if i%1000 == 0:\n",
        "  #    keras.ModelCheckpoint(________________________)"
      ],
      "execution_count": null,
      "outputs": []
    },
    {
      "cell_type": "code",
      "metadata": {
        "id": "mc47meLoOjqy"
      },
      "source": [
        "train(___,_____,____,____,____,____,____)"
      ],
      "execution_count": null,
      "outputs": []
    },
    {
      "cell_type": "code",
      "metadata": {
        "id": "GtgoVtlBB4_H"
      },
      "source": [],
      "execution_count": null,
      "outputs": []
    },
    {
      "cell_type": "code",
      "metadata": {
        "id": "YK67tF-YB49C"
      },
      "source": [
        "# plt.plot(range(run),err_dis,label='Discriminator')\n",
        "# plt.plot(range(run),err_gen,label='Generator')\n",
        "# plt.legend()\n",
        "# plt.title('Training Losses')\n",
        "# plt.xlabel('Epochs')\n",
        "# plt.ylabel('Loss')"
      ],
      "execution_count": null,
      "outputs": []
    },
    {
      "cell_type": "code",
      "metadata": {
        "id": "e_F5yyKoB46X"
      },
      "source": [
        "# torch.save(netD,'Discriminator network 1')\n",
        "# torch.save(netG,'Generator network 1')"
      ],
      "execution_count": null,
      "outputs": []
    },
    {
      "cell_type": "code",
      "metadata": {
        "id": "ig7ULnzrCmGj"
      },
      "source": [
        "d_model"
      ],
      "execution_count": null,
      "outputs": []
    },
    {
      "cell_type": "code",
      "metadata": {
        "id": "2ZDyqEZmCmD5"
      },
      "source": [
        "classifier = torch.load('Discriminator network') #use this line to save model in variable 'a'"
      ],
      "execution_count": null,
      "outputs": []
    },
    {
      "cell_type": "code",
      "metadata": {
        "id": "cFYM-Uv0Cl5j"
      },
      "source": [
        "classifier(img).max()"
      ],
      "execution_count": null,
      "outputs": []
    },
    {
      "cell_type": "markdown",
      "metadata": {
        "id": "y-agKwaq6G6u"
      },
      "source": [
        "CNN"
      ]
    },
    {
      "cell_type": "code",
      "metadata": {
        "colab": {
          "base_uri": "https://localhost:8080/",
          "height": 609
        },
        "id": "cEmGpgOG3c-H",
        "outputId": "3e1dbdff-242e-4d01-ea10-e707e8fb33b2"
      },
      "source": [
        "import seaborn as sn\n",
        "import pandas as pd\n",
        "df_cm = pd.DataFrame(cm, range(17), range(17))\n",
        "plt.figure(figsize = (10,10))\n",
        "sn.heatmap(df_cm, annot=True)"
      ],
      "execution_count": null,
      "outputs": [
        {
          "output_type": "execute_result",
          "data": {
            "text/plain": [
              "<matplotlib.axes._subplots.AxesSubplot at 0x7fb550d979e8>"
            ]
          },
          "metadata": {
            "tags": []
          },
          "execution_count": 72
        },
        {
          "output_type": "display_data",
          "data": {
            "image/png": "[encoded data removed]",
            "text/plain": [
              "<Figure size 720x720 with 2 Axes>"
            ]
          },
          "metadata": {
            "tags": []
          }
        }
      ]
    }
  ]
}